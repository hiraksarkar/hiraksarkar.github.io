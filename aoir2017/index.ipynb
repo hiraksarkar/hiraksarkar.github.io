{
 "cells": [
  {
   "cell_type": "markdown",
   "metadata": {
    "slideshow": {
     "slide_type": "slide"
    }
   },
   "source": [
    "# “But it wouldn’t be an encyclopedia; it would be a wiki”: the changing imagined affordances of wikis, 1995-2002\n",
    "\n",
    "## Stuart Geiger (@staeiou, stuart@stuartgeiger.com)\n",
    "### UC-Berkeley, Berkeley Institute for Data Science\n",
    "### Association of Internet Researchers (IR17)\n",
    "### Tartu, Estonia | 19 Oct 2017"
   ]
  },
  {
   "cell_type": "markdown",
   "metadata": {
    "slideshow": {
     "slide_type": "slide"
    }
   },
   "source": [
    "## About me\n",
    "\n",
    "- Bio\n",
    "  - Grew up on the internets (while living in Waco, Texas)\n",
    "  - Ph.D from UC-Berkeley's [School of Information](http://ischool.berkeley.edu)\n",
    "  - Now an \"ethnographer/postdoc\" at the [Berkeley Institute for Data Science](http://bids.berkeley.edu)"
   ]
  },
  {
   "cell_type": "markdown",
   "metadata": {
    "slideshow": {
     "slide_type": "fragment"
    }
   },
   "source": [
    "- Disciplines/fields\n",
    "  - Science and Technology Studies\n",
    "  - Communication and Media Studies\n",
    "  - Critical Theory / Cultural Studies\n",
    "  - Social Informatics / Computer-Supported Cooperative Work\n",
    " "
   ]
  },
  {
   "cell_type": "markdown",
   "metadata": {
    "slideshow": {
     "slide_type": "fragment"
    }
   },
   "source": [
    "- Methods/methodologies\n",
    "  - Ethnography / trace ethnography\n",
    "  - Grounded theory / qualitative contextual inquiry\n",
    "  - Computationally-supported analysis of trace data\n",
    "  - Archival and historical analysis / historiographical hermenutics "
   ]
  },
  {
   "cell_type": "markdown",
   "metadata": {
    "collapsed": true,
    "slideshow": {
     "slide_type": "slide"
    }
   },
   "source": [
    "# The socio-technical governance of Wikipedia"
   ]
  },
  {
   "cell_type": "markdown",
   "metadata": {
    "slideshow": {
     "slide_type": "subslide"
    }
   },
   "source": [
    "# Why does Wikipedia look like this?\n",
    "\n",
    "![](images/batman.png)"
   ]
  },
  {
   "cell_type": "markdown",
   "metadata": {
    "collapsed": true,
    "slideshow": {
     "slide_type": "subslide"
    }
   },
   "source": [
    "# Instead of this?\n",
    "\n",
    "![](images/batman-nuh.png)"
   ]
  },
  {
   "cell_type": "markdown",
   "metadata": {
    "slideshow": {
     "slide_type": "slide"
    }
   },
   "source": [
    "# Wikipedia is produced out of the tension to be both a “wiki-” and a “-pedia”\n",
    "\n",
    "(also see [Rosenzweig 2006](https://www.sfu.ca/cmns/courses/2012/801/1-Readings/Rosenzweig-%20Can%20history%20be%20open%20source%20.pdf), [Lih 2009](https://en.wikipedia.org/wiki/The_Wikipedia_Revolution), [Reagle 2010](https://mitpress.mit.edu/books/good-faith-collaboration), [Niederer & van Dijck 2010](http://journals.sagepub.com/doi/pdf/10.1177/1461444810365297), [Ford 2014](https://papers.ssrn.com/sol3/papers.cfm?abstract_id=2490454), [Wadewitz 2014](https://www.hastac.org/blogs/paigecm/2014/01/05/01-reading-and-writing-wikipedia-prospective-syllabus), Tkacz 2015)"
   ]
  },
  {
   "cell_type": "markdown",
   "metadata": {
    "slideshow": {
     "slide_type": "subslide"
    }
   },
   "source": [
    "# Wikipedia was neither the first encyclopedia nor the first wiki\n",
    "\n",
    "Diderot and D'Alembert's [Encyclopedie](https://en.wikipedia.org/wiki/Encyclop%C3%A9die) | Ward Cunningham's [WikiWikiWeb](http://wiki.c2.com/?WikiWikiWeb)\n",
    ":-------------------------:|:-------------------------:\n",
    "![](images/encyclopedie.png) |  ![](images/wikiwikiweb.png)"
   ]
  },
  {
   "cell_type": "markdown",
   "metadata": {
    "collapsed": true,
    "slideshow": {
     "slide_type": "skip"
    }
   },
   "source": [
    "![](images/diderot.png)\n",
    "\n",
    "Image by [Wittylama](https://en.wikipedia.org/wiki/User:Wittylama), CC BY-SA 3.0\n",
    "From [Wikimedia Commons](https://commons.wikimedia.org/wiki/File:Denis_Diderot_conference_room.jpg)"
   ]
  },
  {
   "cell_type": "markdown",
   "metadata": {
    "slideshow": {
     "slide_type": "subslide"
    }
   },
   "source": [
    "# Wikipedians started out with the same platform as late 1990s wikis\n",
    "\n",
    "![](images/wikipedia-critical-theory-2001.png)\n",
    "\n",
    "(archived from [archive.org](https://web.archive.org/web/20010405142805/http://www.wikipedia.com:80/wiki/Critical_Theory))"
   ]
  },
  {
   "cell_type": "markdown",
   "metadata": {
    "slideshow": {
     "slide_type": "subslide"
    }
   },
   "source": [
    "# But Wikipedia became a quite different kind of wiki\n",
    "\n",
    "![](images/wikipedia-critical-theory-2017.png)"
   ]
  },
  {
   "cell_type": "markdown",
   "metadata": {
    "slideshow": {
     "slide_type": "fragment"
    }
   },
   "source": [
    "# As Wikipedians worked out how to write an encyclopedia in a wiki, they revised the meanings and materialities of both.\n"
   ]
  },
  {
   "cell_type": "markdown",
   "metadata": {
    "slideshow": {
     "slide_type": "subslide"
    }
   },
   "source": [
    "# Imagined affordances ([Nagy & Neff 2015](http://journals.sagepub.com/doi/abs/10.1177/2056305115603385)):\n",
    "\n",
    "# “Imagined affordances emerge between users’ perceptions, attitudes, and expectations; between the materiality and functionality of technologies; and between the intentions and perceptions of designers.”"
   ]
  },
  {
   "cell_type": "markdown",
   "metadata": {
    "slideshow": {
     "slide_type": "slide"
    }
   },
   "source": [
    "# The pre-history of Wikipedia"
   ]
  },
  {
   "cell_type": "markdown",
   "metadata": {
    "slideshow": {
     "slide_type": "fragment"
    }
   },
   "source": [
    "## 1999-2000: [Nupedia](https://web.archive.org/web/20001203141800/http://www.nupedia.com:80/): Nupedia was a volunteer-based project to write a freely licensed encyclopedia.\n",
    "\n",
    "## It was highly-structured, expert-based, and...\n",
    "\n",
    "\n",
    "![](images/nupedia.png)"
   ]
  },
  {
   "cell_type": "markdown",
   "metadata": {
    "slideshow": {
     "slide_type": "subslide"
    }
   },
   "source": [
    "## ...a failure. After 18 months & $250,000 USD, only 12 articles.\n",
    "\n",
    "![](images/nupedia-index1.png)\n",
    "\n",
    "(From [archive.org](https://web.archive.org/web/20010331191028/http://www.nupedia.com:80/newest.phtml), layout edited to fit)"
   ]
  },
  {
   "cell_type": "markdown",
   "metadata": {
    "slideshow": {
     "slide_type": "subslide"
    }
   },
   "source": [
    "# January 2001: Larry Sanger & Jimmy Wales learn about WikiWikiWeb, Jimmy asks them a simple question:"
   ]
  },
  {
   "cell_type": "markdown",
   "metadata": {
    "slideshow": {
     "slide_type": "fragment"
    }
   },
   "source": [
    "![](images/notawiki1.png)"
   ]
  },
  {
   "cell_type": "markdown",
   "metadata": {
    "slideshow": {
     "slide_type": "fragment"
    }
   },
   "source": [
    "![](images/notawiki2.png)\n",
    "\n",
    "(archived from [WikiWikiWeb/WikiPedia](wiki.c2.com/?WikiPedia), as told in [Sanger's memoir](https://features.slashdot.org/story/05/04/18/164213/the-early-history-of-nupedia-and-wikipedia-a-memoir))"
   ]
  },
  {
   "cell_type": "markdown",
   "metadata": {
    "slideshow": {
     "slide_type": "fragment"
    }
   },
   "source": [
    "### (They go ahead and make Wikipedia anyway)"
   ]
  },
  {
   "cell_type": "markdown",
   "metadata": {
    "slideshow": {
     "slide_type": "slide"
    }
   },
   "source": [
    "# So what was a wiki pre-Wikipedia?\n"
   ]
  },
  {
   "cell_type": "markdown",
   "metadata": {
    "slideshow": {
     "slide_type": "subslide"
    }
   },
   "source": [
    "## The fast, quick, read-write version of the WorldWideWeb\n",
    "\n",
    "![](images/phpwiki2000.jpg)\n",
    "\n",
    "(the php wiki, archived by [John Abell](https://www.wired.com/2010/03/0325wikiwikiweb-first-wiki/))"
   ]
  },
  {
   "cell_type": "markdown",
   "metadata": {
    "slideshow": {
     "slide_type": "subslide"
    }
   },
   "source": [
    "## Originally, wikis did not:"
   ]
  },
  {
   "cell_type": "markdown",
   "metadata": {
    "slideshow": {
     "slide_type": "fragment"
    }
   },
   "source": [
    "- keep full revision histories (with UIs for browsing history)\n",
    "- separate article content from discussions about content\n",
    "- be able to temporarily protect pages from public editing\n",
    "- use or have built-in support academic-style references\n",
    "- templates for specialized formatting and task signalling __[citation needed]__\n"
   ]
  },
  {
   "cell_type": "markdown",
   "metadata": {
    "slideshow": {
     "slide_type": "fragment"
    }
   },
   "source": [
    "## Pre-Wikipedia \"wikizens\" linked software features (or lack thereof) to ideas about what \"the wiki way\" demanded from them"
   ]
  },
  {
   "cell_type": "markdown",
   "metadata": {
    "slideshow": {
     "slide_type": "fragment"
    }
   },
   "source": [
    "![](images/wabisabi.png)"
   ]
  },
  {
   "cell_type": "markdown",
   "metadata": {
    "slideshow": {
     "slide_type": "slide"
    }
   },
   "source": [
    "# Imagined affordance #1:\n",
    "\n",
    "## The \"WikiNow\" versus a full version control system"
   ]
  },
  {
   "cell_type": "markdown",
   "metadata": {
    "slideshow": {
     "slide_type": "fragment"
    }
   },
   "source": [
    "### \"WhyWikiWorks\" from WikiWikiWeb:\n",
    "\n",
    "![](images/wikiwikiweb-delete.png)\n",
    "\n",
    "(archived on [archive.org](https://web.archive.org/web/20030401184429/http://c2.com:80/cgi/wiki?WhyWikiWorks))"
   ]
  },
  {
   "cell_type": "markdown",
   "metadata": {
    "slideshow": {
     "slide_type": "subslide"
    }
   },
   "source": [
    "![](images/wikiwikiweb-perpetualnow.png)\n",
    "\n",
    "(archived on [archive.org](https://web.archive.org/web/20020717030429/http://c2.com:80/cgi/wiki?PerpetualNow))"
   ]
  },
  {
   "cell_type": "markdown",
   "metadata": {
    "slideshow": {
     "slide_type": "subslide"
    }
   },
   "source": [
    "# To Wikipedians, the lack of a full revision history was a bug\n",
    "\n",
    "![](images/wikipedial-history.png)\n",
    "\n",
    "(from a [wikipedia-l discussion](https://lists.wikimedia.org/pipermail/wikipedia-l/2001-September/000494.html))"
   ]
  },
  {
   "cell_type": "markdown",
   "metadata": {
    "slideshow": {
     "slide_type": "subslide"
    }
   },
   "source": [
    "# Controversies over admins deleting pages from the database with no record\n",
    "\n",
    "![](images/wikipedial-deletion.png)\n",
    "\n",
    "(from a [wikipedia-l discussion](https://lists.wikimedia.org/pipermail/wikipedia-l/2001-November/))"
   ]
  },
  {
   "cell_type": "markdown",
   "metadata": {
    "slideshow": {
     "slide_type": "subslide"
    }
   },
   "source": [
    "# Soon, the codebase was patched to support full histories and logging\n",
    "\n",
    "![](images/wikipedia-history.png)\n",
    "\n",
    "(archived on [archive.org](https://web.archive.org/web/20011216233557/http://www.wikipedia.com:80/wiki.cgi?action=history&id=Creationism))"
   ]
  },
  {
   "cell_type": "markdown",
   "metadata": {
    "slideshow": {
     "slide_type": "slide"
    }
   },
   "source": [
    "# Imagined affordance #2:\n",
    "## Wiki pages as stream of consciousness vs. separate pages for content and discussion"
   ]
  },
  {
   "cell_type": "markdown",
   "metadata": {
    "slideshow": {
     "slide_type": "fragment"
    }
   },
   "source": [
    "![](images/wikiwikiweb-gh.png)"
   ]
  },
  {
   "cell_type": "markdown",
   "metadata": {
    "slideshow": {
     "slide_type": "subslide"
    }
   },
   "source": [
    "# Wikipedia's talk pages, separating content from discussion\n",
    "\n",
    "Wikipedia article | Wikipedia talk page\n",
    ":-------------------------:|:-------------------------:\n",
    "![](images/wikipedia-gh-article.png) |  ![](images/wikipedia-gh-talk.png)"
   ]
  },
  {
   "cell_type": "markdown",
   "metadata": {
    "slideshow": {
     "slide_type": "slide"
    }
   },
   "source": [
    "# I'm going to have to skip over some slides now"
   ]
  },
  {
   "cell_type": "code",
   "execution_count": null,
   "metadata": {
    "collapsed": true
   },
   "outputs": [],
   "source": []
  },
  {
   "cell_type": "markdown",
   "metadata": {
    "slideshow": {
     "slide_type": "subslide"
    }
   },
   "source": [
    "![](images/references.png)"
   ]
  },
  {
   "cell_type": "markdown",
   "metadata": {
    "slideshow": {
     "slide_type": "subslide"
    }
   },
   "source": [
    "![](images/wikipedian-protester.png)"
   ]
  },
  {
   "cell_type": "markdown",
   "metadata": {
    "slideshow": {
     "slide_type": "subslide"
    }
   },
   "source": [
    "![](images/npov.png)"
   ]
  },
  {
   "cell_type": "markdown",
   "metadata": {
    "slideshow": {
     "slide_type": "subslide"
    }
   },
   "source": [
    "![](images/lol-protected.png)"
   ]
  },
  {
   "cell_type": "markdown",
   "metadata": {
    "slideshow": {
     "slide_type": "slide"
    }
   },
   "source": [
    "# Wikipedia would become both an encyclopedia and a wiki, as Wikipedians revised both what encyclopedias and wikis were."
   ]
  },
  {
   "cell_type": "markdown",
   "metadata": {
    "slideshow": {
     "slide_type": "fragment"
    }
   },
   "source": [
    "![](images/wikipedia-way.png)"
   ]
  },
  {
   "cell_type": "markdown",
   "metadata": {
    "slideshow": {
     "slide_type": "slide"
    }
   },
   "source": [
    "# Theoretical takeaways\n",
    "\n",
    "  - Software platforms are not reducible to their code/features\n",
    "    - Platforms are also constituted by their users' shared cultural imaginaries\n",
    "  - Affordances are not equivilent to code/features\n",
    "    - People attach different meanings/implications to the same features\n",
    "  - \"What the technology demands\" is often fluid and negotiable  \n",
    "    - Tensions between tailoring society to code and code to society"
   ]
  },
  {
   "cell_type": "code",
   "execution_count": null,
   "metadata": {
    "collapsed": true
   },
   "outputs": [],
   "source": []
  }
 ],
 "metadata": {
  "celltoolbar": "Slideshow",
  "kernelspec": {
   "display_name": "Python 3",
   "language": "python",
   "name": "python3"
  },
  "language_info": {
   "codemirror_mode": {
    "name": "ipython",
    "version": 3
   },
   "file_extension": ".py",
   "mimetype": "text/x-python",
   "name": "python",
   "nbconvert_exporter": "python",
   "pygments_lexer": "ipython3",
   "version": "3.6.1"
  }
 },
 "nbformat": 4,
 "nbformat_minor": 1
}
